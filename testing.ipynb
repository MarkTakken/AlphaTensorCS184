{
 "cells": [
  {
   "cell_type": "code",
   "execution_count": 1,
   "metadata": {},
   "outputs": [],
   "source": [
    "from utilities import *\n",
    "import torch\n",
    "t = Tokenizer()"
   ]
  },
  {
   "cell_type": "code",
   "execution_count": 2,
   "metadata": {},
   "outputs": [],
   "source": [
    "a = torch.tensor([[1, 0, 0],[0,0,0], [-2, -2, -2]])\n",
    "b = torch.tensor([[-2,1,0],[0,1,1], [-1, 1, -1]])"
   ]
  },
  {
   "cell_type": "code",
   "execution_count": 3,
   "metadata": {},
   "outputs": [
    {
     "name": "stdout",
     "output_type": "stream",
     "text": [
      "tensor([[ 3., 10., 50.],\n",
      "        [ 2., 10., 50.],\n",
      "        [ 0.,  0.,  0.]])\n",
      "tensor([[ 0., 15., 50.],\n",
      "        [ 2., 15., 75.],\n",
      "        [ 1., 15., 25.]])\n",
      "tensor([[ 1,  0,  0],\n",
      "        [ 0,  0,  0],\n",
      "        [-2, -2, -2]]) tensor([[-2,  1,  0],\n",
      "        [ 0,  1,  1],\n",
      "        [-1,  1, -1]])\n",
      "tensor([63., 62.,  0.]) tensor([65., 92., 41.])\n",
      "tensor([[ 1.,  8.,  0.],\n",
      "        [ 0.,  8.,  0.],\n",
      "        [-2., -2., -2.]]) tensor([[-2., 13.,  0.],\n",
      "        [ 0., 13.,  1.],\n",
      "        [-1., 13., -1.]])\n"
     ]
    }
   ],
   "source": [
    "x = t.tokenize(a)\n",
    "y = t.tokenize(b)\n",
    "print(a, b)\n",
    "print(x, y)\n",
    "w = t.detokenize(x)\n",
    "x = t.detokenize(y)\n",
    "\n",
    "print(w, x)"
   ]
  },
  {
   "cell_type": "code",
   "execution_count": null,
   "metadata": {},
   "outputs": [],
   "source": []
  }
 ],
 "metadata": {
  "kernelspec": {
   "display_name": "base",
   "language": "python",
   "name": "python3"
  },
  "language_info": {
   "codemirror_mode": {
    "name": "ipython",
    "version": 3
   },
   "file_extension": ".py",
   "mimetype": "text/x-python",
   "name": "python",
   "nbconvert_exporter": "python",
   "pygments_lexer": "ipython3",
   "version": "3.10.11"
  }
 },
 "nbformat": 4,
 "nbformat_minor": 2
}
